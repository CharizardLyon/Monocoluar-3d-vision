{
 "cells": [
  {
   "cell_type": "markdown",
   "id": "9eed7464",
   "metadata": {},
   "source": [
    "Libs"
   ]
  },
  {
   "cell_type": "code",
   "execution_count": 1,
   "id": "18966ecc",
   "metadata": {},
   "outputs": [],
   "source": [
    "import pandas as pd\n",
    "import os\n",
    "import cv2\n",
    "from pathlib import Path"
   ]
  },
  {
   "cell_type": "markdown",
   "id": "d0007f20",
   "metadata": {},
   "source": [
    "PATHS"
   ]
  },
  {
   "cell_type": "code",
   "execution_count": 7,
   "id": "d426613a",
   "metadata": {},
   "outputs": [],
   "source": [
    "base_path = Path(\"C:/Users/myore/Desktop/MYOREHAB/Prueba\")\n",
    "output_path = Path(\"dataset\")\n",
    "camera_filenames = [\"camA.mp4\", \"camB.mp4\", \"camC.mp4\", \"camD.mp4\", \"camE.mp4\"]\n",
    "train_ratio = 0.8\n",
    "FRAME_NAME_PATTERN = \"session_sample_{idx:05d}_cam{cam_letter}.png\""
   ]
  },
  {
   "cell_type": "markdown",
   "id": "52effe4a",
   "metadata": {},
   "source": [
    "MAIN_CODE"
   ]
  },
  {
   "cell_type": "code",
   "execution_count": 3,
   "id": "bf58f723",
   "metadata": {},
   "outputs": [],
   "source": [
    "TRAIN_DIR = output_path / \"train\"\n",
    "TEST_DIR = output_path / \"test\"\n",
    "LABELS_PATH = output_path / \"labels.csv\""
   ]
  },
  {
   "cell_type": "code",
   "execution_count": 11,
   "id": "0d08e0d2",
   "metadata": {},
   "outputs": [],
   "source": [
    "def process_session(session_dir: Path,\n",
    "                    global_labels: pd.DataFrame,\n",
    "                    seen_uids: set) -> pd.DataFrame:\n",
    "\n",
    "    session = session_dir.name\n",
    "    print(f\"▶ Processing {session}\")\n",
    "\n",
    "    # 1. Rutas de video\n",
    "    video_folder = session_dir / \"videos-raw\"\n",
    "    video_paths = [video_folder / f\"cam{c}.mp4\" for c in \"ABCDE\"]\n",
    "    if not all(p.exists() for p in video_paths):\n",
    "        print(f\"  ⚠️  Missing camera videos in {video_folder} → skipping\")\n",
    "        return global_labels\n",
    "\n",
    "    # 2. Ruta al CSV\n",
    "    csv_folder = session_dir / \"pose-3d\"\n",
    "    csv_files = list(csv_folder.glob(\"*.csv\"))\n",
    "    if len(csv_files) != 1:\n",
    "        print(f\"  ⚠️  Expected 1 CSV in {csv_folder}, found {len(csv_files)} → skipping\")\n",
    "        return global_labels\n",
    "    csv_file = csv_files[0]\n",
    "\n",
    "    # 3. Abrir videos\n",
    "    caps = [cv2.VideoCapture(str(p)) for p in video_paths]\n",
    "    if not all(cap.isOpened() for cap in caps):\n",
    "        print(f\"  ❌ Could not open all video files in {session} → skipping\")\n",
    "        return global_labels\n",
    "\n",
    "    # 4. Leer CSV\n",
    "    session_labels = pd.read_csv(csv_file)\n",
    "    if session_labels.empty:\n",
    "        print(f\"  ⚠️  CSV {csv_file.name} is empty → skipping\")\n",
    "        return global_labels\n",
    "\n",
    "    num_rows   = len(session_labels)\n",
    "    frame_cnts = [int(cap.get(cv2.CAP_PROP_FRAME_COUNT)) for cap in caps]\n",
    "    samples    = min(min(frame_cnts), num_rows)\n",
    "    split_idx  = int(samples * train_ratio)\n",
    "\n",
    "    cam_letters = [\"A\", \"B\", \"C\", \"D\", \"E\"]\n",
    "\n",
    "    for i in range(samples):\n",
    "        uid = f\"{session}_sample_{i:05d}\"\n",
    "        if uid in seen_uids:\n",
    "            print(f\"  🔁 Duplicate UID {uid} found → skipping\")\n",
    "            continue\n",
    "\n",
    "        split = \"train\" if i < split_idx else \"test\"\n",
    "        out_dir = TRAIN_DIR if split == \"train\" else TEST_DIR\n",
    "\n",
    "        frame_files = []\n",
    "        for cam_idx, cap in enumerate(caps):\n",
    "            cam_letter = cam_letters[cam_idx]\n",
    "            ok, frame = cap.read()\n",
    "            if not ok:\n",
    "                print(f\"  ⚠️  Could not read frame {i} from cam{cam_letter} → stopping session\")\n",
    "                samples = i\n",
    "                break\n",
    "\n",
    "            fname = FRAME_NAME_PATTERN.format(session=session, idx=i, cam_letter=cam_letter)\n",
    "            fpath = out_dir / fname\n",
    "            fpath.parent.mkdir(parents=True, exist_ok=True)\n",
    "            cv2.imwrite(str(fpath), frame)\n",
    "            frame_files.append(str(fpath.relative_to(output_path)))\n",
    "        else:\n",
    "            # Solo columnas 3D\n",
    "            row_data = session_labels.iloc[i].copy()\n",
    "            xyz_cols = [col for col in row_data.index if col.endswith((\"_x\", \"_y\", \"_z\"))]\n",
    "            row_filtered = row_data[xyz_cols].copy()\n",
    "\n",
    "            row_filtered[\"sample_uid\"]  = uid\n",
    "            row_filtered[\"session\"]     = session\n",
    "            row_filtered[\"split\"]       = split\n",
    "            row_filtered[\"frame_files\"] = \";\".join(frame_files)\n",
    "\n",
    "            global_labels = pd.concat([global_labels, row_filtered.to_frame().T], ignore_index=True)\n",
    "            continue\n",
    "        break  # si falló una cámara, salir del bucle principal\n",
    "\n",
    "    for cap in caps:\n",
    "        cap.release()\n",
    "\n",
    "    print(f\"✅ Processed {samples} frames for session {session} \"\n",
    "          f\"({split_idx} train / {samples - split_idx} test)\")\n",
    "    return global_labels\n"
   ]
  },
  {
   "cell_type": "code",
   "execution_count": 5,
   "id": "dda74b13",
   "metadata": {},
   "outputs": [],
   "source": [
    "def main():\n",
    "    output_path.mkdir(parents=True, exist_ok=True)\n",
    "    TRAIN_DIR.mkdir(exist_ok=True)\n",
    "    TEST_DIR.mkdir(exist_ok=True)\n",
    "    \n",
    "    if LABELS_PATH.exists():\n",
    "        labels_master = pd.read_csv(LABELS_PATH)\n",
    "    else:\n",
    "        labels_master = pd.DataFrame()\n",
    "        \n",
    "    seen = set(labels_master.get(\"sample_uid\", []))\n",
    "    \n",
    "    for session_folder in sorted(base_path.iterdir()):\n",
    "        if session_folder.is_dir() and session_folder.name.startswith(\"session\"):\n",
    "            labels_master = process_session(session_folder, labels_master, seen)\n",
    "            seen = set(labels_master[\"sample_uid\"])\n",
    "            \n",
    "    labels_master.to_csv(LABELS_PATH, index=False)\n",
    "    print(f\"\\n labels.csv with {len(labels_master)} total samples saved → \"\n",
    "          f\"{LABELS_PATH.resolve()}\")\n",
    "            "
   ]
  },
  {
   "cell_type": "code",
   "execution_count": 12,
   "id": "806cbde0",
   "metadata": {},
   "outputs": [
    {
     "name": "stdout",
     "output_type": "stream",
     "text": [
      "▶ Processing session1\n",
      "✅ Processed 3498 frames for session session1 (2798 train / 700 test)\n",
      "▶ Processing session2\n",
      "  ⚠️  Missing camera videos in C:\\Users\\myore\\Desktop\\MYOREHAB\\Prueba\\session2\\videos-raw → skipping\n",
      "▶ Processing session3\n",
      "  ⚠️  Missing camera videos in C:\\Users\\myore\\Desktop\\MYOREHAB\\Prueba\\session3\\videos-raw → skipping\n",
      "\n",
      " labels.csv with 3498 total samples saved → C:\\Users\\myore\\Desktop\\Monocular-3d-vision\\dataset\\labels.csv\n",
      "✅ Processing complete.\n"
     ]
    }
   ],
   "source": [
    "if __name__ == \"__main__\":\n",
    "    main()\n",
    "    print(\"✅ Processing complete.\")"
   ]
  }
 ],
 "metadata": {
  "kernelspec": {
   "display_name": "anipose",
   "language": "python",
   "name": "python3"
  },
  "language_info": {
   "codemirror_mode": {
    "name": "ipython",
    "version": 3
   },
   "file_extension": ".py",
   "mimetype": "text/x-python",
   "name": "python",
   "nbconvert_exporter": "python",
   "pygments_lexer": "ipython3",
   "version": "3.7.12"
  }
 },
 "nbformat": 4,
 "nbformat_minor": 5
}
